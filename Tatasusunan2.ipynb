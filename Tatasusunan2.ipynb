{
 "cells": [
  {
   "cell_type": "markdown",
   "metadata": {},
   "source": [
    "Pada pelajaran yang lepas kita sudah tahu serba sedikit tentang perbezaan tatasusunan dan senarai.\n",
    "Untuk pelajaran kali ini kita akan lebih fokus kepada tatasusunan.\n",
    "Tatasusunan sering digunakan dalam matematik berangka yang banyak melibatkan vektor dan matriks.\n",
    "Suatu vektor boleh jadi vektor baris (*row vector*) atau vektor lajur (*column vector*).\n",
    "\n",
    "Mari kita cuba bina vektor baris $\\mathbf{A}$ dahulu.\n",
    "\\begin{equation}\n",
    "\\mathbf{A} = \\begin{pmatrix}1 & 5 & 10 & 20 & 50 & 100 \\end{pmatrix}\n",
    "\\end{equation}"
   ]
  },
  {
   "cell_type": "code",
   "execution_count": 1,
   "metadata": {
    "collapsed": false
   },
   "outputs": [
    {
     "name": "stdout",
     "output_type": "stream",
     "text": [
      "[  1   5  10  20  50 100]\n"
     ]
    }
   ],
   "source": [
    "from numpy import *\n",
    "A = array([1, 5, 10, 20, 50, 100])\n",
    "print(A)"
   ]
  },
  {
   "cell_type": "markdown",
   "metadata": {},
   "source": [
    "Vektor lajur $\\mathbf{B}$.\n",
    "\\begin{equation}\n",
    "\\mathbf{B} = \\begin{pmatrix}1 \\\\ 5 \\\\ 10 \\\\ 20 \\\\ 50 \\\\ 100 \\end{pmatrix}\n",
    "\\end{equation}\n"
   ]
  },
  {
   "cell_type": "code",
   "execution_count": 2,
   "metadata": {
    "collapsed": false
   },
   "outputs": [
    {
     "name": "stdout",
     "output_type": "stream",
     "text": [
      "[[  1]\n",
      " [  5]\n",
      " [ 10]\n",
      " [ 20]\n",
      " [ 50]\n",
      " [100]]\n"
     ]
    }
   ],
   "source": [
    "B = array([[1],\n",
    "         [5],\n",
    "         [10],\n",
    "         [20],\n",
    "         [50],\n",
    "         [100]])\n",
    "print(B)"
   ]
  },
  {
   "cell_type": "markdown",
   "metadata": {},
   "source": [
    "Atau boleh juga kita ubah vektor baris $\\mathbf A$ menjadi vektor lajur dengan menggunakan fungsi **namapembolehubah.reshape((bilanganbaris, bilanganlajur))**."
   ]
  },
  {
   "cell_type": "code",
   "execution_count": 3,
   "metadata": {
    "collapsed": false
   },
   "outputs": [
    {
     "name": "stdout",
     "output_type": "stream",
     "text": [
      "[[  1]\n",
      " [  5]\n",
      " [ 10]\n",
      " [ 20]\n",
      " [ 50]\n",
      " [100]]\n"
     ]
    }
   ],
   "source": [
    "BLagi = A.reshape((6,1))\n",
    "print(BLagi)"
   ]
  },
  {
   "cell_type": "markdown",
   "metadata": {},
   "source": [
    "Matriks $\\mathbf{C}$ bersaiz 2 kali 2\n",
    "\\begin{equation}\n",
    "\\mathbf{C} =\n",
    "\\begin{pmatrix} \n",
    "1 & 2 \\\\\n",
    "3 & 4\n",
    "\\end{pmatrix}\n",
    "\\end{equation}\n"
   ]
  },
  {
   "cell_type": "code",
   "execution_count": 4,
   "metadata": {
    "collapsed": false
   },
   "outputs": [
    {
     "name": "stdout",
     "output_type": "stream",
     "text": [
      "[[1 2]\n",
      " [3 4]]\n"
     ]
    }
   ],
   "source": [
    "C = array([\n",
    "        [1, 2],\n",
    "        [3, 4]\n",
    "    ])\n",
    "print(C)"
   ]
  },
  {
   "cell_type": "markdown",
   "metadata": {},
   "source": [
    "Matriks $\\mathbf{D}$ bersaiz 3 kali 3\n",
    "\\begin{equation}\n",
    "\\mathbf{C} =\n",
    "\\begin{pmatrix} \n",
    "1 & 2 & 3 \\\\\n",
    "4 & 5 & 6 \\\\\n",
    "7 & 8 & 9\n",
    "\\end{pmatrix}\n",
    "\\end{equation}"
   ]
  },
  {
   "cell_type": "code",
   "execution_count": 5,
   "metadata": {
    "collapsed": false
   },
   "outputs": [
    {
     "name": "stdout",
     "output_type": "stream",
     "text": [
      "[[1 2 3]\n",
      " [4 5 6]\n",
      " [7 8 9]]\n"
     ]
    }
   ],
   "source": [
    "D = array([\n",
    "        [1, 2, 3],\n",
    "        [4, 5, 6],\n",
    "        [7, 8, 9]\n",
    "    ])\n",
    "print(D)"
   ]
  },
  {
   "cell_type": "markdown",
   "metadata": {},
   "source": [
    "Terdapat beberapa fungsi terbina yang berguna untuk operasi yang melibatkan vektor dan matriks.\n",
    "Salah satunya yang telah kita gunakan sebentar tadi ialah fungsi **reshape**.\n",
    "Berikut ialah senarai fungsi yang menarik untuk diterokai:\n",
    "* reshape(namapembolehubah, (bilanganbaris, bilanganlajur)):  mengubah tatasusunan bernama **namapembolehubah** kepada suatu tatasusunan berbentuk bilanganbaris kali bilanganlajur.\n",
    "* transpose(namapembolehubah): mengtransposisikan tatasusunan bernama **namapembolehubah**\n",
    "* flipud(namapembolehubah): menterbalikkan tatasusunan bernama **namapembolehubah** dari baris atas ke baris bawah.\n",
    "* fliplr(namapembolehubah):menterbalikkan tatasusunan bernama **namapembolehubah** dari lajur paling kiri ke lajur paling kanan.\n",
    "* rot90(namapembolehubah): membuat putaran 90 darjah terhadap tatasusunan bernama **namapembolehubah**\n",
    "* shape(namapembolehubah): memaklumkan bentuk atau saiz tatasusunan bernama **namapembolehubah**\n",
    "* size(namapembolehubah): memaklumkan jumlah keseluruhan elemen yang terkandung di dalam tatasusunan bernama **namapembolehubah**"
   ]
  },
  {
   "cell_type": "code",
   "execution_count": 6,
   "metadata": {
    "collapsed": false
   },
   "outputs": [
    {
     "data": {
      "text/plain": [
       "array([[1, 2, 3, 4, 5, 6, 7, 8, 9]])"
      ]
     },
     "execution_count": 6,
     "metadata": {},
     "output_type": "execute_result"
    }
   ],
   "source": [
    "reshape(D, ((1,9)))"
   ]
  },
  {
   "cell_type": "code",
   "execution_count": 7,
   "metadata": {
    "collapsed": false
   },
   "outputs": [
    {
     "data": {
      "text/plain": [
       "array([[1, 4, 7],\n",
       "       [2, 5, 8],\n",
       "       [3, 6, 9]])"
      ]
     },
     "execution_count": 7,
     "metadata": {},
     "output_type": "execute_result"
    }
   ],
   "source": [
    "transpose(D)"
   ]
  },
  {
   "cell_type": "code",
   "execution_count": 8,
   "metadata": {
    "collapsed": false
   },
   "outputs": [
    {
     "data": {
      "text/plain": [
       "array([[7, 8, 9],\n",
       "       [4, 5, 6],\n",
       "       [1, 2, 3]])"
      ]
     },
     "execution_count": 8,
     "metadata": {},
     "output_type": "execute_result"
    }
   ],
   "source": [
    "flipud(D)"
   ]
  },
  {
   "cell_type": "code",
   "execution_count": 9,
   "metadata": {
    "collapsed": false
   },
   "outputs": [
    {
     "data": {
      "text/plain": [
       "array([[3, 2, 1],\n",
       "       [6, 5, 4],\n",
       "       [9, 8, 7]])"
      ]
     },
     "execution_count": 9,
     "metadata": {},
     "output_type": "execute_result"
    }
   ],
   "source": [
    "fliplr(D)"
   ]
  },
  {
   "cell_type": "code",
   "execution_count": 10,
   "metadata": {
    "collapsed": false
   },
   "outputs": [
    {
     "data": {
      "text/plain": [
       "array([[3, 6, 9],\n",
       "       [2, 5, 8],\n",
       "       [1, 4, 7]])"
      ]
     },
     "execution_count": 10,
     "metadata": {},
     "output_type": "execute_result"
    }
   ],
   "source": [
    "rot90(D)"
   ]
  },
  {
   "cell_type": "code",
   "execution_count": 11,
   "metadata": {
    "collapsed": false
   },
   "outputs": [
    {
     "data": {
      "text/plain": [
       "9"
      ]
     },
     "execution_count": 11,
     "metadata": {},
     "output_type": "execute_result"
    }
   ],
   "source": [
    "size(D)"
   ]
  },
  {
   "cell_type": "code",
   "execution_count": 12,
   "metadata": {
    "collapsed": false
   },
   "outputs": [
    {
     "data": {
      "text/plain": [
       "(3, 3)"
      ]
     },
     "execution_count": 12,
     "metadata": {},
     "output_type": "execute_result"
    }
   ],
   "source": [
    "shape(D)"
   ]
  },
  {
   "cell_type": "markdown",
   "metadata": {},
   "source": [
    "Tatasusunan yang diberikan dalam pelajaran kita hanya yang berbentuk kecil sahaja akan tetapi apabila kita mengaturcara untuk kaedah berangka, tatasusunan yang terlibat ialah berbentuk besar sebagai contoh 1000 kali 1000. Adakalanya kita tidak mahu melihat semua elemen. Kita hanya mahu lihat suatu/beberapa elemen, baris atau lajur sahaja. \n",
    "Kita boleh berbuat demikian dengan mengakses posisi elemen, baris atau lajur yang kita mahukan sahaja.\n",
    "Di dalam Python, pengiraan posisi bermula dengan 0.\n",
    "\n",
    "Contohnya, ini ialah posisi untuk tatasusunan asal $\\mathbf D$\n",
    "\\begin{equation}\n",
    "\\mathbf{D} = \\begin{pmatrix} \\textrm{D}[0,0] & \\textrm{D}[0,1] & \\textrm{D}[0,2] \\\\\n",
    "                            \\textrm{D}[1,0] & \\textrm{D}[1,1] & \\textrm{D}[1,2] \\\\\n",
    "                            \\textrm{D}[2,0] & \\textrm{D}[2,1] & \\textrm{D}[2,2]\n",
    "             \\end{pmatrix}\n",
    "\\end{equation}\n",
    "\n",
    "Mari kita cuba mengakses elemen di posisi 0,0."
   ]
  },
  {
   "cell_type": "code",
   "execution_count": 13,
   "metadata": {
    "collapsed": false
   },
   "outputs": [
    {
     "data": {
      "text/plain": [
       "1"
      ]
     },
     "execution_count": 13,
     "metadata": {},
     "output_type": "execute_result"
    }
   ],
   "source": [
    "D[0,0]"
   ]
  },
  {
   "cell_type": "markdown",
   "metadata": {},
   "source": [
    "Kita cuba pula mengakses elemen 0,0 dan 1,0 sekaligus."
   ]
  },
  {
   "cell_type": "code",
   "execution_count": 14,
   "metadata": {
    "collapsed": false
   },
   "outputs": [
    {
     "data": {
      "text/plain": [
       "array([1, 4])"
      ]
     },
     "execution_count": 14,
     "metadata": {},
     "output_type": "execute_result"
    }
   ],
   "source": [
    "D[0:2,0]"
   ]
  },
  {
   "cell_type": "markdown",
   "metadata": {},
   "source": [
    "Perhatikan nombor yang dipanggil di dalam ruang untuk posisi baris. Ianya ditulis 0:2 bermakna bermula dengan baris di posisi 0 dan berakhir sebelum posisi 2 (iaitu posisi 1).\n",
    "\n",
    "Selain itu, kita juga boleh menukar salah satu atau beberapa elemen yang terkandung di dalam suatu tatasusunan.\n",
    "Sebagai contoh, jika kita mahu menukar elemen pertama dalam tatasusunan D dari 1 kepada 100, kita boleh berbuat demikian dengan memberi arahan **namapembolehubah [posisibaris,posisilajur] = nilaibaru**."
   ]
  },
  {
   "cell_type": "code",
   "execution_count": 15,
   "metadata": {
    "collapsed": false
   },
   "outputs": [
    {
     "name": "stdout",
     "output_type": "stream",
     "text": [
      "[[100   2   3]\n",
      " [  4   5   6]\n",
      " [  7   8   9]]\n"
     ]
    }
   ],
   "source": [
    "D[0,0] = 100\n",
    "print(D)"
   ]
  },
  {
   "cell_type": "markdown",
   "metadata": {},
   "source": [
    "Mari kita cuba ubah ketiga-tiga elemen di dalam baris 2 menjadi [10 11 12]."
   ]
  },
  {
   "cell_type": "code",
   "execution_count": 16,
   "metadata": {
    "collapsed": false
   },
   "outputs": [
    {
     "name": "stdout",
     "output_type": "stream",
     "text": [
      "[[100   2   3]\n",
      " [  4   5   6]\n",
      " [ 10  11  12]]\n"
     ]
    }
   ],
   "source": [
    "D[2,:] = array([10, 11, 12])\n",
    "print(D)"
   ]
  },
  {
   "cell_type": "markdown",
   "metadata": {},
   "source": [
    "Tanda : sahaja digunakan untuk membaca setiap posisi yang ada.\n",
    "Bagaimana pula kalau kita cuba ubah kesemua elemen dalam baris 2?"
   ]
  },
  {
   "cell_type": "code",
   "execution_count": 17,
   "metadata": {
    "collapsed": false
   },
   "outputs": [
    {
     "name": "stdout",
     "output_type": "stream",
     "text": [
      "[[100   2  13]\n",
      " [  4   5  14]\n",
      " [ 10  11  15]]\n"
     ]
    }
   ],
   "source": [
    "D[:,2] = array([13,14,15])\n",
    "print(D)"
   ]
  },
  {
   "cell_type": "markdown",
   "metadata": {},
   "source": [
    "Pelbagai operasi boleh kita jalankan pada tatasusunan. Mari kita terokai bersama."
   ]
  },
  {
   "cell_type": "code",
   "execution_count": 18,
   "metadata": {
    "collapsed": false
   },
   "outputs": [
    {
     "name": "stdout",
     "output_type": "stream",
     "text": [
      "[[4 3 2]\n",
      " [9 8 7]\n",
      " [6 5 1]]\n"
     ]
    }
   ],
   "source": [
    "Z = array([[4,3,2],[9,8,7],[6,5,1]])\n",
    "print(Z)"
   ]
  },
  {
   "cell_type": "code",
   "execution_count": 19,
   "metadata": {
    "collapsed": false
   },
   "outputs": [
    {
     "data": {
      "text/plain": [
       "array([[104,   5,  15],\n",
       "       [ 13,  13,  21],\n",
       "       [ 16,  16,  16]])"
      ]
     },
     "execution_count": 19,
     "metadata": {},
     "output_type": "execute_result"
    }
   ],
   "source": [
    "D + Z"
   ]
  },
  {
   "cell_type": "code",
   "execution_count": 20,
   "metadata": {
    "collapsed": false
   },
   "outputs": [
    {
     "data": {
      "text/plain": [
       "array([[96, -1, 11],\n",
       "       [-5, -3,  7],\n",
       "       [ 4,  6, 14]])"
      ]
     },
     "execution_count": 20,
     "metadata": {},
     "output_type": "execute_result"
    }
   ],
   "source": [
    "D - Z"
   ]
  },
  {
   "cell_type": "code",
   "execution_count": 21,
   "metadata": {
    "collapsed": false
   },
   "outputs": [
    {
     "data": {
      "text/plain": [
       "array([[400,   6,  26],\n",
       "       [ 36,  40,  98],\n",
       "       [ 60,  55,  15]])"
      ]
     },
     "execution_count": 21,
     "metadata": {},
     "output_type": "execute_result"
    }
   ],
   "source": [
    "D * Z"
   ]
  },
  {
   "cell_type": "markdown",
   "metadata": {},
   "source": [
    "Untuk operasi darab, walaupun tatasusunan kita kelihatan seperti matriks tetapi pengiraan yang dijalankan ialah pendaraban elemen, bukan pendaraban dua matriks. Jika kita mahukan hasil darab dua matriks, kita hendaklah menggunakan fungsi **dot**."
   ]
  },
  {
   "cell_type": "code",
   "execution_count": 22,
   "metadata": {
    "collapsed": false
   },
   "outputs": [
    {
     "data": {
      "text/plain": [
       "array([[496, 381, 227],\n",
       "       [145, 122,  57],\n",
       "       [229, 193, 112]])"
      ]
     },
     "execution_count": 22,
     "metadata": {},
     "output_type": "execute_result"
    }
   ],
   "source": [
    "dot(D,Z)"
   ]
  },
  {
   "cell_type": "markdown",
   "metadata": {},
   "source": [
    "Untuk mencari matriks songsang, kita boleh menggunakan fungsi tersedia **inv(namapembolehubah)**."
   ]
  },
  {
   "cell_type": "code",
   "execution_count": 23,
   "metadata": {
    "collapsed": false
   },
   "outputs": [
    {
     "data": {
      "text/plain": [
       "array([[ 0.01010489, -0.01445382,  0.00473267],\n",
       "       [-0.0102328 , -0.17523663,  0.17242261],\n",
       "       [ 0.00076746,  0.13814275, -0.0629317 ]])"
      ]
     },
     "execution_count": 23,
     "metadata": {},
     "output_type": "execute_result"
    }
   ],
   "source": [
    "from numpy.linalg import inv\n",
    "inv(D)"
   ]
  },
  {
   "cell_type": "markdown",
   "metadata": {},
   "source": [
    "Wah. Banyak juga yang telah kita pelajari tentang tatasusunan. Insha Allah selepas ini kita akan pelajari cara-cara untuk memplot graf dalam Python. "
   ]
  }
 ],
 "metadata": {
  "kernelspec": {
   "display_name": "Python 2",
   "language": "python",
   "name": "python2"
  },
  "language_info": {
   "codemirror_mode": {
    "name": "ipython",
    "version": 2
   },
   "file_extension": ".py",
   "mimetype": "text/x-python",
   "name": "python",
   "nbconvert_exporter": "python",
   "pygments_lexer": "ipython2",
   "version": "2.7.10"
  }
 },
 "nbformat": 4,
 "nbformat_minor": 0
}
