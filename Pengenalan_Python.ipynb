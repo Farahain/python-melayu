{
 "cells": [
  {
   "cell_type": "markdown",
   "metadata": {},
   "source": [
    "# Selamat datang ke dunia pengaturcaraan dengan Python !"
   ]
  },
  {
   "cell_type": "markdown",
   "metadata": {},
   "source": [
    "## Cetak "
   ]
  },
  {
   "cell_type": "markdown",
   "metadata": {},
   "source": [
    "Mari kita mula berkomunikasi dengan komputer."
   ]
  },
  {
   "cell_type": "code",
   "execution_count": 1,
   "metadata": {
    "collapsed": false
   },
   "outputs": [
    {
     "name": "stdout",
     "output_type": "stream",
     "text": [
      "Assalamualaikum dan selamat sejahtera.\n"
     ]
    }
   ],
   "source": [
    "print \"Assalamualaikum dan selamat sejahtera.\"\n"
   ]
  },
  {
   "cell_type": "markdown",
   "metadata": {},
   "source": [
    "Wow ! Komputer pun pandai bagi salam dan ucapan sejahtera rupanya.\n",
    "Dengan menaip arahan $\\textit{print}$ tadi, kita telah mengarahkan komputer untuk mencetak maklumat yang seterusnya iaitu Assalamualaikum dan selamat sejahtera. \n",
    "\n",
    "Kenapa tanda pembuka dan penutup kata \"\" tidak terpapar sekali ?\n",
    "Kerana setiap perkataan yang hendak dipaparkan, mesti ditulis di dalam tanda pembuka dan penutup kata \"\".\n",
    "Jika kita tidak menulisnya di dalam tanda pembuka dan penutup kata \"\", komputer akan menganggapnya sebagai suatu pembolehubah, bukan perkataan biasa."
   ]
  },
  {
   "cell_type": "markdown",
   "metadata": {},
   "source": [
    "##Pembolehubah"
   ]
  },
  {
   "cell_type": "markdown",
   "metadata": {},
   "source": [
    "Di dalam pengaturcaraan komputer, kita boleh membuat (create) suatu pembolehubah.\n",
    "Fungsi pembolehubah ini adalah untuk menyimpan maklumat.\n",
    "Sebagai contoh."
   ]
  },
  {
   "cell_type": "code",
   "execution_count": 2,
   "metadata": {
    "collapsed": false
   },
   "outputs": [
    {
     "name": "stdout",
     "output_type": "stream",
     "text": [
      "5\n"
     ]
    }
   ],
   "source": [
    "Aminah = 5\n",
    "print Aminah"
   ]
  },
  {
   "cell_type": "markdown",
   "metadata": {},
   "source": [
    "Pembolehubah yang diberi nama Aminah telah ditugaskan untuk menyimpan / mengingat nombor 5.\n",
    "Maka, apabila kita mengarahkan komputer untuk mencetak maklumat yang disimpan dalam pembolehubah bernama Aminah, nombor 5 pun dicetak.\n",
    "\n",
    "Perlu diingat, tanda sama dengan = yang digunakan bukan bermaksud sama seperti di dalam matematik. Tanda sama dengan yang digunakan di sini digelar 'assignment symbol' atau simbol tugasan.\n",
    "\n",
    "Dalam menamakan pembolehubah, ada juga pantang larangnya.\n",
    "\n",
    "1- Tak boleh dinamakan hanya dengan angka semata-mata"
   ]
  },
  {
   "cell_type": "code",
   "execution_count": 3,
   "metadata": {
    "collapsed": false
   },
   "outputs": [
    {
     "ename": "SyntaxError",
     "evalue": "can't assign to literal (<ipython-input-3-ad79f72419ba>, line 1)",
     "output_type": "error",
     "traceback": [
      "\u001b[1;36m  File \u001b[1;32m\"<ipython-input-3-ad79f72419ba>\"\u001b[1;36m, line \u001b[1;32m1\u001b[0m\n\u001b[1;33m    2 = 9\u001b[0m\n\u001b[1;31mSyntaxError\u001b[0m\u001b[1;31m:\u001b[0m can't assign to literal\n"
     ]
    }
   ],
   "source": [
    "2 = 9"
   ]
  },
  {
   "cell_type": "markdown",
   "metadata": {},
   "source": [
    "Cara mengatasi: Kalau mesti jugak namakan pembolehubah dengan nombor, boleh cuba teknik mengeja nombor. Contohnya macam kat bawah ni."
   ]
  },
  {
   "cell_type": "code",
   "execution_count": 4,
   "metadata": {
    "collapsed": false
   },
   "outputs": [
    {
     "name": "stdout",
     "output_type": "stream",
     "text": [
      "9\n"
     ]
    }
   ],
   "source": [
    "Dua = 9\n",
    "print Dua"
   ]
  },
  {
   "cell_type": "markdown",
   "metadata": {},
   "source": [
    "2- Tak boleh jarak-jarak haa. Mesti dalam 1 perkataan."
   ]
  },
  {
   "cell_type": "code",
   "execution_count": 5,
   "metadata": {
    "collapsed": false
   },
   "outputs": [
    {
     "ename": "SyntaxError",
     "evalue": "invalid syntax (<ipython-input-5-974c31c48d3a>, line 1)",
     "output_type": "error",
     "traceback": [
      "\u001b[1;36m  File \u001b[1;32m\"<ipython-input-5-974c31c48d3a>\"\u001b[1;36m, line \u001b[1;32m1\u001b[0m\n\u001b[1;33m    Siti Nurhaliza = 36\u001b[0m\n\u001b[1;37m                 ^\u001b[0m\n\u001b[1;31mSyntaxError\u001b[0m\u001b[1;31m:\u001b[0m invalid syntax\n"
     ]
    }
   ],
   "source": [
    "Siti Nurhaliza = 36"
   ]
  },
  {
   "cell_type": "markdown",
   "metadata": {},
   "source": [
    "Cara mengatasi: Jarakkan perkataan-perkataan dengan menggunakan simbol _ (underscore)  atau rapatkan sahaja sebagai 1 perkataan."
   ]
  },
  {
   "cell_type": "code",
   "execution_count": 6,
   "metadata": {
    "collapsed": false
   },
   "outputs": [
    {
     "name": "stdout",
     "output_type": "stream",
     "text": [
      "36\n"
     ]
    }
   ],
   "source": [
    "Siti_Nurhaliza = 36\n",
    "print Siti_Nurhaliza"
   ]
  },
  {
   "cell_type": "code",
   "execution_count": 7,
   "metadata": {
    "collapsed": false
   },
   "outputs": [
    {
     "name": "stdout",
     "output_type": "stream",
     "text": [
      "40\n"
     ]
    }
   ],
   "source": [
    "SitiNurhaliza = 40\n",
    "print SitiNurhaliza"
   ]
  },
  {
   "cell_type": "markdown",
   "metadata": {},
   "source": [
    "Di samping itu juga, pembolehubah bukan sekadar boleh menyimpan nombor, tetapi ia juga boleh menyimpan perkataan dan ayat. Contohnya:"
   ]
  },
  {
   "cell_type": "code",
   "execution_count": 8,
   "metadata": {
    "collapsed": false
   },
   "outputs": [
    {
     "name": "stdout",
     "output_type": "stream",
     "text": [
      "Lagu yang paling saya gemari ialah Bukan Cinta Biasa\n",
      "Lagu-lagu kegemaran saya yang terkini ialah Tak Pernah Menyerah dan Romancinta.\n"
     ]
    }
   ],
   "source": [
    "Siti_Nurhaliza = \"Bukan Cinta Biasa\"\n",
    "Dayang_Nurfaizah = \"Tak Pernah Menyerah\"\n",
    "Mojo = \"Romancinta\"\n",
    "print \"Lagu yang paling saya gemari ialah %s\" %(Siti_Nurhaliza)\n",
    "print \"Lagu-lagu kegemaran saya yang terkini ialah %s dan %s.\" %(Dayang_Nurfaizah, Mojo)"
   ]
  },
  {
   "cell_type": "markdown",
   "metadata": {},
   "source": [
    "## Arahan print: perkataan + pembolehubah sekaligus"
   ]
  },
  {
   "cell_type": "markdown",
   "metadata": {},
   "source": [
    "Perasan tak contoh di atas menunjukkan arahan print yang bercampur antara perkataan dan pembolehubah ?\n",
    "Okay contoh yang tadi bila pembolehubah itu menyimpan perkataan. \n",
    "Macam mana pula jika pembolehubah itu menyimpan nombor apung/perpuluhan (floating number)?"
   ]
  },
  {
   "cell_type": "code",
   "execution_count": 9,
   "metadata": {
    "collapsed": false
   },
   "outputs": [
    {
     "name": "stdout",
     "output_type": "stream",
     "text": [
      "Nombor pertama ialah 1.234568 manakala yang kedua ialah 2.1346\n"
     ]
    }
   ],
   "source": [
    "pertama = 1.2345678912345678\n",
    "kedua = 2.13456789123456789\n",
    "print \"Nombor pertama ialah %f manakala yang kedua ialah %.4f\" %(pertama, kedua)"
   ]
  },
  {
   "cell_type": "markdown",
   "metadata": {},
   "source": [
    "Secara biasanya, jika dalam format %f, nilai yang akan dicetak adalah sehingga 6 tempat perpuluhan.\n",
    "Jika kita mahu menghadkan tempat perpuluhan, taip %.4f untuk mencetak sehingga 4 tempat perpuluhan.\n",
    "\n",
    "Perkara yang mesti diingat: %s untuk huruf-huruf/perkataan, %f untuk nombor perpuluhan, dan %d untuk nombor integer."
   ]
  },
  {
   "cell_type": "markdown",
   "metadata": {},
   "source": [
    "## Operasi Matematik"
   ]
  },
  {
   "cell_type": "markdown",
   "metadata": {},
   "source": [
    "Berbagai operasi matematik boleh dijalankan dalam bahasa Python. Antaranya:\n",
    "\n",
    "1- tambah    +"
   ]
  },
  {
   "cell_type": "code",
   "execution_count": 10,
   "metadata": {
    "collapsed": false
   },
   "outputs": [
    {
     "data": {
      "text/plain": [
       "7"
      ]
     },
     "execution_count": 10,
     "metadata": {},
     "output_type": "execute_result"
    }
   ],
   "source": [
    "2 + 5"
   ]
  },
  {
   "cell_type": "markdown",
   "metadata": {},
   "source": [
    "2- tolak    -"
   ]
  },
  {
   "cell_type": "code",
   "execution_count": 11,
   "metadata": {
    "collapsed": false
   },
   "outputs": [
    {
     "data": {
      "text/plain": [
       "-3"
      ]
     },
     "execution_count": 11,
     "metadata": {},
     "output_type": "execute_result"
    }
   ],
   "source": [
    "2 - 5"
   ]
  },
  {
   "cell_type": "markdown",
   "metadata": {},
   "source": [
    "3- darab *"
   ]
  },
  {
   "cell_type": "code",
   "execution_count": 12,
   "metadata": {
    "collapsed": false
   },
   "outputs": [
    {
     "data": {
      "text/plain": [
       "10"
      ]
     },
     "execution_count": 12,
     "metadata": {},
     "output_type": "execute_result"
    }
   ],
   "source": [
    "2 * 5"
   ]
  },
  {
   "cell_type": "markdown",
   "metadata": {},
   "source": [
    "4- kuasa **"
   ]
  },
  {
   "cell_type": "code",
   "execution_count": 13,
   "metadata": {
    "collapsed": false
   },
   "outputs": [
    {
     "data": {
      "text/plain": [
       "32"
      ]
     },
     "execution_count": 13,
     "metadata": {},
     "output_type": "execute_result"
    }
   ],
   "source": [
    "2 ** 5"
   ]
  },
  {
   "cell_type": "markdown",
   "metadata": {},
   "source": [
    "5- bahagi  /"
   ]
  },
  {
   "cell_type": "code",
   "execution_count": 14,
   "metadata": {
    "collapsed": false
   },
   "outputs": [
    {
     "data": {
      "text/plain": [
       "0"
      ]
     },
     "execution_count": 14,
     "metadata": {},
     "output_type": "execute_result"
    }
   ],
   "source": [
    "2 / 5"
   ]
  },
  {
   "cell_type": "markdown",
   "metadata": {},
   "source": [
    "Eh biar betul 2 bahagi 5 sama dengan 0 ? Bukan jawapan sepatutnya 0.4 ke ?\n",
    "Dalam Python, kalau kita bagi dia nombor bulat, jawapannya pun diberi dalam nombor bulat. \n",
    "Jadi kalau kita nak jawapan dalam perpuluhan, kena la bagi nombor perpuluhan juga.\n",
    "Lepas ni jadikan menulis nombor yang nak dioperasikan secara matematik dalam bentuk perpuluhan sebagai amalan terpuji ye."
   ]
  },
  {
   "cell_type": "code",
   "execution_count": 15,
   "metadata": {
    "collapsed": false
   },
   "outputs": [
    {
     "data": {
      "text/plain": [
       "0.4"
      ]
     },
     "execution_count": 15,
     "metadata": {},
     "output_type": "execute_result"
    }
   ],
   "source": [
    "2.0 / 5"
   ]
  },
  {
   "cell_type": "markdown",
   "metadata": {},
   "source": [
    "6- modulo    %  \n",
    "\n",
    "10 mod 2"
   ]
  },
  {
   "cell_type": "code",
   "execution_count": 16,
   "metadata": {
    "collapsed": false
   },
   "outputs": [
    {
     "data": {
      "text/plain": [
       "0"
      ]
     },
     "execution_count": 16,
     "metadata": {},
     "output_type": "execute_result"
    }
   ],
   "source": [
    "10 % 2"
   ]
  },
  {
   "cell_type": "markdown",
   "metadata": {},
   "source": [
    "7 - sin"
   ]
  },
  {
   "cell_type": "code",
   "execution_count": 17,
   "metadata": {
    "collapsed": false
   },
   "outputs": [
    {
     "ename": "NameError",
     "evalue": "name 'sin' is not defined",
     "output_type": "error",
     "traceback": [
      "\u001b[1;31m---------------------------------------------------------------------------\u001b[0m",
      "\u001b[1;31mNameError\u001b[0m                                 Traceback (most recent call last)",
      "\u001b[1;32m<ipython-input-17-b5f5b12908fe>\u001b[0m in \u001b[0;36m<module>\u001b[1;34m()\u001b[0m\n\u001b[1;32m----> 1\u001b[1;33m \u001b[0msin\u001b[0m\u001b[1;33m(\u001b[0m\u001b[1;36m0\u001b[0m\u001b[1;33m)\u001b[0m\u001b[1;33m\u001b[0m\u001b[0m\n\u001b[0m",
      "\u001b[1;31mNameError\u001b[0m: name 'sin' is not defined"
     ]
    }
   ],
   "source": [
    "sin(0)"
   ]
  },
  {
   "cell_type": "markdown",
   "metadata": {},
   "source": [
    "Mohon jangan gelojoh. Fungsi-fungsi matematik ini semuanya ada dalam Python tetapi tersedia dalam pustaka (module) yang bernama math.\n",
    "Kita kene seru fungsi sin dari pustaka math, baru la dia 'datang'."
   ]
  },
  {
   "cell_type": "code",
   "execution_count": 18,
   "metadata": {
    "collapsed": false
   },
   "outputs": [
    {
     "data": {
      "text/plain": [
       "0.0"
      ]
     },
     "execution_count": 18,
     "metadata": {},
     "output_type": "execute_result"
    }
   ],
   "source": [
    "from math import sin\n",
    "sin(0) "
   ]
  },
  {
   "cell_type": "markdown",
   "metadata": {},
   "source": [
    "Amacam ? Senang tak mengaturcara dalam bahasa Python ? \n",
    "Rasanya cukup la sesi taaruf bersama Python sampai di sini sahaja.\n",
    "Lepas ini kita akan bincang benda yang lebih kepada teknikal Python pula insha Allah.\n",
    "Apa pun, selamat mencuba."
   ]
  }
 ],
 "metadata": {
  "kernelspec": {
   "display_name": "Python 2",
   "language": "python",
   "name": "python2"
  },
  "language_info": {
   "codemirror_mode": {
    "name": "ipython",
    "version": 2
   },
   "file_extension": ".py",
   "mimetype": "text/x-python",
   "name": "python",
   "nbconvert_exporter": "python",
   "pygments_lexer": "ipython2",
   "version": "2.7.10"
  }
 },
 "nbformat": 4,
 "nbformat_minor": 0
}
