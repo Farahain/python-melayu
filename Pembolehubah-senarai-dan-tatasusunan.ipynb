{
 "cells": [
  {
   "cell_type": "markdown",
   "metadata": {},
   "source": [
    "Mari kita mula dengan mempelajari tentang pembolehubah atau dalam bahasa Inggeris dipanggil *variable*.\n",
    "Fungsi pembolehubah ialah untuk menyimpan maklumat.\n",
    "Dengan menggunakan pembolehubah, tak perlulah kita nak ulang taip maklumat tersebut dalam dokumen yang sama.\n",
    "\n",
    "Petua dan pantang larang dalam menamakan suatu pembolehubah:\n",
    "* Mesti bermula dengan huruf. Lepas tu nak bubuh huruf lagi ke, digit atau *underscore* _ boleh je janji tak gatal pergi bubuh jarak (*space*).\n",
    "* Sensitif huruf. Huruf besar tak sama dengan huruf kecil. Jadi perhati betul-betul bila nak taip semula nama tu.\n",
    "* Kalau nak bubuh nama pemboleh ubah tu 2 perkataan atau lebih, selain gantikan jarak dengan tanda _ boleh juga gunakan cara ini: guna huruf besar hanya untuk huruf pertama kepada perkataan baru. Contohnya **AliBaba KasimBaba**.\n",
    "* Ada beberapa perkataan yang tak boleh/sesuai dijadikan nama antaranya ialah nama fungsi terbina dalam Python. Contohnya pergi bubuh **cos = 10**. Sedangkan kita tahu **cos** ialah suatu nama fungsi tersedia untuk pengiraan *cosine*.\n",
    "* Yang ni paling *common sense*. Nama pembolehubah hendaklah refleks maklumat yang disimpan. Contohnya **tinggi = 60**. Jadi tau dah ohhhh ini pemboleh ubah yang simpan maklumat tentang tinggi. \n",
    "\n",
    "Satu lagi benda yang 'dekat' dengan pembolehubah ialah simbol umpukan (*assignment symbol*).\n",
    "Simbol umpukan digunakan untuk menghubungkan pembolehubah dengan maklumatnya.\n",
    "Dalam bahasa Python, simbol umpukan yang digunakan ialah simbol =.\n",
    "Berbeza dengan penggunaan simbol = di dalam matematik yang bermaksud sama sebelah kiri dan kanan persamaan.\n",
    "\n",
    "Contoh:"
   ]
  },
  {
   "cell_type": "code",
   "execution_count": 1,
   "metadata": {
    "collapsed": false
   },
   "outputs": [
    {
     "name": "stdout",
     "output_type": "stream",
     "text": [
      "5000\n"
     ]
    }
   ],
   "source": [
    "Ali = 5000\n",
    "print(Ali)"
   ]
  },
  {
   "cell_type": "markdown",
   "metadata": {},
   "source": [
    "Ali ialah pembolehubah dan 5000 adalah maklumat yang disimpan di dalam pembolehubah yang bernama Ali.\n",
    "Ini tidak bermakna Ali sama dengan 5000 atau 5000 sama dengan Ali.\n",
    "\n",
    "\n",
    "Pembolehubah yang berbeza boleh menyimpan nombor yang sama tetapi suatu pembolehubah hanya boleh menyimpan 1 sahaja nombor."
   ]
  },
  {
   "cell_type": "code",
   "execution_count": 2,
   "metadata": {
    "collapsed": false
   },
   "outputs": [
    {
     "name": "stdout",
     "output_type": "stream",
     "text": [
      "5000\n",
      "10\n"
     ]
    }
   ],
   "source": [
    "Ani = 5000\n",
    "print(Ani)\n",
    "\n",
    "Ali = 10\n",
    "print(Ali)"
   ]
  },
  {
   "cell_type": "markdown",
   "metadata": {},
   "source": [
    "Sebelum ini kita telah mengumpuk pembolehubah **Ali** untuk menyimpan integer 5000.\n",
    "Apabila kita memberi arahan untuk pembolehubah **Ali** menyimpan integer 10,\n",
    "secara automatik maklumat yang disimpan oleh pembolehubah **Ali** ialah yang terkini iaitu 10 dan maklumat terdahulu telah dipadam.\n",
    "\n",
    "Macam mana kalau kita mahu pembolehubah **Ali** untuk menyimpan kedua-dua nombor?\n",
    "Mudah saja. Kita tulis supaya ianya disimpan sebagai senarai (*list*).\n",
    "Sebagai contoh, saya mahu pembolehubah **Ali** menyimpan nombor 5000 dan 10."
   ]
  },
  {
   "cell_type": "code",
   "execution_count": 3,
   "metadata": {
    "collapsed": false
   },
   "outputs": [
    {
     "name": "stdout",
     "output_type": "stream",
     "text": [
      "[5000, 10]\n"
     ]
    }
   ],
   "source": [
    "Ali = [5000, 10]\n",
    "print(Ali)"
   ]
  },
  {
   "cell_type": "markdown",
   "metadata": {},
   "source": [
    "Berjaya! Katakan ada 2 senarai dan kita mahu jumlah nombor pertama dan jumlah nombor kedua dari 2 senarai macam kita tambahkan 2 vektor."
   ]
  },
  {
   "cell_type": "code",
   "execution_count": 4,
   "metadata": {
    "collapsed": false
   },
   "outputs": [
    {
     "data": {
      "text/plain": [
       "[5000, 10, 76, 800]"
      ]
     },
     "execution_count": 4,
     "metadata": {},
     "output_type": "execute_result"
    }
   ],
   "source": [
    "Kasim = [76, 800]\n",
    "\n",
    "Ali + Kasim"
   ]
  },
  {
   "cell_type": "markdown",
   "metadata": {},
   "source": [
    "Nampaknya apa yang kita mahukan tak menjadi dengan cara ini.\n",
    "Bila dua senarai ditambah, apa yang terhasil ialah suatu senarai baru yang menggabungkan semua nombor dari kedua-dua senarai atau orang putih panggil *concatenate*.\n",
    "\n",
    "Jika kita mahu senarai nombor kita berfungsi seperti vektor atau matrik, kita hendaklah menyimpan mereka dalam bentuk tatasusunan ataupun *array*.\n",
    "Fungsi **array** tidak tersedia dalam Python yang am, jadi kita perlu memanggil fungsi ini dari pustakanya iaitu **numpy**.\n",
    "\n",
    "Mari kita cuba jadikan senarai bernama **Ali** dan **Kasim** kepada tatasusunan bernama **AliBaba** dan **KasimBaba** (Nama pembolehubah tidak boleh jarak ya)."
   ]
  },
  {
   "cell_type": "code",
   "execution_count": 5,
   "metadata": {
    "collapsed": false
   },
   "outputs": [],
   "source": [
    "from numpy import array\n",
    "\n",
    "AliBaba = array(Ali)\n",
    "KasimBaba = array(Kasim)"
   ]
  },
  {
   "cell_type": "code",
   "execution_count": 6,
   "metadata": {
    "collapsed": false
   },
   "outputs": [
    {
     "data": {
      "text/plain": [
       "array([5076,  810])"
      ]
     },
     "execution_count": 6,
     "metadata": {},
     "output_type": "execute_result"
    }
   ],
   "source": [
    "AliBaba + KasimBaba\n"
   ]
  },
  {
   "cell_type": "markdown",
   "metadata": {},
   "source": [
    "Sukses! Harapnya terang lagi bersuluh di sini perbezaan di antara senarai (*list*) dengan tatasusunan (*array*). \n",
    "Insha Allah dalam pelajaran yang seterusnya kita akan terokai fungsi **array** dengan lebih mendalam."
   ]
  }
 ],
 "metadata": {
  "kernelspec": {
   "display_name": "Python 2",
   "language": "python",
   "name": "python2"
  },
  "language_info": {
   "codemirror_mode": {
    "name": "ipython",
    "version": 2
   },
   "file_extension": ".py",
   "mimetype": "text/x-python",
   "name": "python",
   "nbconvert_exporter": "python",
   "pygments_lexer": "ipython2",
   "version": "2.7.10"
  }
 },
 "nbformat": 4,
 "nbformat_minor": 0
}
