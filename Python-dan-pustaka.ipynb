{
 "cells": [
  {
   "cell_type": "markdown",
   "metadata": {},
   "source": [
    "Dalam pelajaran kali ini, kita akan bincangkan mengenai suatu komponen penting dalam Python iaitu pustakanya yang dipanggil $\\textit{module}$. \n",
    "\n",
    "Di dalam $\\textit{module}$ pula terdapat pelbagai fungsi terbina yang sedia untuk digunakan.\n",
    "\n",
    "Antara module yang ada untuk kegunaan berkaitan matematik ialah:\n",
    "- math (mengandungi pelbagai fungsi matematik seperti yang tersedia di dalam C): \n",
    "    https://docs.python.org/2/library/math.html\n",
    "- fractions (untuk operasi dalam pecahan):\n",
    "    https://docs.python.org/2/library/fractions.html\n",
    "- random (menghasilkan nombor secara rawak):\n",
    "    https://docs.python.org/2/library/random.html\n",
    "- numpy (khusus untuk pengkomputeran saintifik yang melibatkan arrays dan matrik):\n",
    "    http://www.numpy.org/\n",
    "- sympy (khusus untuk matematik simbolik):\n",
    "    http://www.sympy.org/en/index.html\n",
    "- bokeh (visualisasi interaktif di web browser):\n",
    "    http://bokeh.pydata.org/en/latest/\n",
    "- matplotlib (plot graf 2D berkualiti tinggi):\n",
    "    http://matplotlib.org/\n",
    "- Tkinter (mereka antaramuka):\n",
    "    https://docs.python.org/2/library/random.html\n",
    "    \n",
    "Pengguna perlu mengimport pustaka yang berkaitan sebelum dapat menggunakan suatu fungsi yang terbina di dalam pustaka tersebut.\n",
    "Terdapat beberapa cara untuk mengimport pustaka.\n",
    "\n",
    "Cara pertama:\n",
    "import namapustaka\n",
    "\n"
   ]
  },
  {
   "cell_type": "code",
   "execution_count": 1,
   "metadata": {
    "collapsed": false
   },
   "outputs": [
    {
     "ename": "NameError",
     "evalue": "name 'sin' is not defined",
     "output_type": "error",
     "traceback": [
      "\u001b[1;31m---------------------------------------------------------------------------\u001b[0m",
      "\u001b[1;31mNameError\u001b[0m                                 Traceback (most recent call last)",
      "\u001b[1;32m<ipython-input-1-78498a122e43>\u001b[0m in \u001b[0;36m<module>\u001b[1;34m()\u001b[0m\n\u001b[0;32m      1\u001b[0m \u001b[1;32mimport\u001b[0m \u001b[0mmath\u001b[0m\u001b[1;33m\u001b[0m\u001b[0m\n\u001b[1;32m----> 2\u001b[1;33m \u001b[0msin\u001b[0m\u001b[1;33m(\u001b[0m\u001b[1;36m0\u001b[0m\u001b[1;33m)\u001b[0m\u001b[1;33m\u001b[0m\u001b[0m\n\u001b[0m",
      "\u001b[1;31mNameError\u001b[0m: name 'sin' is not defined"
     ]
    }
   ],
   "source": [
    "import math\n",
    "sin(0)"
   ]
  },
  {
   "cell_type": "markdown",
   "metadata": {},
   "source": [
    "Kenapa masih terdapat ralat sedangkan pustaka math sudah diimport ?\n",
    "Jika kita menggunakan cara ini, kita perlu menaip namapustaka.namafungsi setiap kali kita ingin menggunakan fungsi dari pustaka tersebut.\n",
    "\n",
    "Mari kita cuba sekali lagi."
   ]
  },
  {
   "cell_type": "code",
   "execution_count": 2,
   "metadata": {
    "collapsed": false
   },
   "outputs": [
    {
     "data": {
      "text/plain": [
       "0.0"
      ]
     },
     "execution_count": 2,
     "metadata": {},
     "output_type": "execute_result"
    }
   ],
   "source": [
    "import math\n",
    "math.sin(0)"
   ]
  },
  {
   "cell_type": "markdown",
   "metadata": {},
   "source": [
    "Berjaya ! \n",
    "Jom kita cuba cara lain pula.\n",
    "\n",
    "Cara kedua:\n",
    "from namapustaka import namafungsi"
   ]
  },
  {
   "cell_type": "code",
   "execution_count": 3,
   "metadata": {
    "collapsed": false
   },
   "outputs": [
    {
     "ename": "NameError",
     "evalue": "name 'cos' is not defined",
     "output_type": "error",
     "traceback": [
      "\u001b[1;31m---------------------------------------------------------------------------\u001b[0m",
      "\u001b[1;31mNameError\u001b[0m                                 Traceback (most recent call last)",
      "\u001b[1;32m<ipython-input-3-486c39e4318d>\u001b[0m in \u001b[0;36m<module>\u001b[1;34m()\u001b[0m\n\u001b[0;32m      1\u001b[0m \u001b[1;32mfrom\u001b[0m \u001b[0mmath\u001b[0m \u001b[1;32mimport\u001b[0m \u001b[0mpi\u001b[0m\u001b[1;33m\u001b[0m\u001b[0m\n\u001b[1;32m----> 2\u001b[1;33m \u001b[0mcos\u001b[0m\u001b[1;33m(\u001b[0m\u001b[0mpi\u001b[0m\u001b[1;33m)\u001b[0m\u001b[1;33m\u001b[0m\u001b[0m\n\u001b[0m",
      "\u001b[1;31mNameError\u001b[0m: name 'cos' is not defined"
     ]
    }
   ],
   "source": [
    "from math import pi\n",
    "cos(pi)"
   ]
  },
  {
   "cell_type": "markdown",
   "metadata": {},
   "source": [
    "Ralat lagi ? Haa arahan tadi kita cuma import fungsi pi sahaja dari pustaka math tapi kita tak import fungsi cos. \n",
    "Jom cuba sekali lagi."
   ]
  },
  {
   "cell_type": "code",
   "execution_count": 4,
   "metadata": {
    "collapsed": false
   },
   "outputs": [
    {
     "data": {
      "text/plain": [
       "-1.0"
      ]
     },
     "execution_count": 4,
     "metadata": {},
     "output_type": "execute_result"
    }
   ],
   "source": [
    "from math import pi, cos\n",
    "cos(pi)"
   ]
  },
  {
   "cell_type": "markdown",
   "metadata": {},
   "source": [
    "Baru la takde ralat. Kebaikan guna cara kedua ialah jika kita menggunakan lebih dari 1 pustaka, dan boleh jadi pustaka-pustaka ini ada fungsi dengan nama yang sama, kita tahu fungsi dari pustaka yang mana digunakan oleh Python.\n",
    "\n",
    "Cara ketiga:"
   ]
  },
  {
   "cell_type": "code",
   "execution_count": 5,
   "metadata": {
    "collapsed": false
   },
   "outputs": [
    {
     "name": "stdout",
     "output_type": "stream",
     "text": [
      "sin(0) bersamaan dengan  0.0 manakala cos(pi) bersamaan dengan  -1.0\n"
     ]
    }
   ],
   "source": [
    "from math import *\n",
    "print \"sin(0) bersamaan dengan \", sin(0), \"manakala cos(pi) bersamaan dengan \", cos(pi)"
   ]
  },
  {
   "cell_type": "markdown",
   "metadata": {},
   "source": [
    "Cara ini paling sesuai kalau kita hanya gunakan 1 pustaka. Boleh guna semua fungsi dalam pustaka sesuka hati. \n",
    "Setakat ni, ini sajalah cara yang hakak tahu nak turunkan ilmu kat korang. \n",
    "\n",
    "Hakak rasa lepas ni hakak akan terus menjuruskan celoteh Python hakak kepada fungsi-fungsi di dalam pustaka-pustaka yang berkaitan dengan bidang kegemaran hakak iaitu sains pengkomputeran. "
   ]
  }
 ],
 "metadata": {
  "kernelspec": {
   "display_name": "Python 2",
   "language": "python",
   "name": "python2"
  },
  "language_info": {
   "codemirror_mode": {
    "name": "ipython",
    "version": 2
   },
   "file_extension": ".py",
   "mimetype": "text/x-python",
   "name": "python",
   "nbconvert_exporter": "python",
   "pygments_lexer": "ipython2",
   "version": "2.7.10"
  }
 },
 "nbformat": 4,
 "nbformat_minor": 0
}
